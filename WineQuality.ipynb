{
  "nbformat": 4,
  "nbformat_minor": 0,
  "metadata": {
    "colab": {
      "name": "WineQuality.ipynb",
      "provenance": [],
      "authorship_tag": "ABX9TyPUnSoAiaWS3UHg07LHcrcw"
    },
    "kernelspec": {
      "name": "python3",
      "display_name": "Python 3"
    }
  },
  "cells": [
    {
      "cell_type": "code",
      "metadata": {
        "id": "dMbvMC-oM7-V",
        "colab_type": "code",
        "colab": {}
      },
      "source": [
        "import numpy as np\n",
        "import pandas as pd"
      ],
      "execution_count": 1,
      "outputs": []
    },
    {
      "cell_type": "code",
      "metadata": {
        "id": "AR3VUGLzVd4_",
        "colab_type": "code",
        "colab": {
          "base_uri": "https://localhost:8080/",
          "height": 255
        },
        "outputId": "31af4fd3-1544-41be-d07b-005b94956161"
      },
      "source": [
        "dataset = pd.read_csv(\"winequality-red.csv\")\n",
        "print(dataset)"
      ],
      "execution_count": 2,
      "outputs": [
        {
          "output_type": "stream",
          "text": [
            "      fixed acidity  volatile acidity  citric acid  ...  sulphates  alcohol  quality\n",
            "0               7.4             0.700         0.00  ...       0.56      9.4        5\n",
            "1               7.8             0.880         0.00  ...       0.68      9.8        5\n",
            "2               7.8             0.760         0.04  ...       0.65      9.8        5\n",
            "3              11.2             0.280         0.56  ...       0.58      9.8        6\n",
            "4               7.4             0.700         0.00  ...       0.56      9.4        5\n",
            "...             ...               ...          ...  ...        ...      ...      ...\n",
            "1594            6.2             0.600         0.08  ...       0.58     10.5        5\n",
            "1595            5.9             0.550         0.10  ...       0.76     11.2        6\n",
            "1596            6.3             0.510         0.13  ...       0.75     11.0        6\n",
            "1597            5.9             0.645         0.12  ...       0.71     10.2        5\n",
            "1598            6.0             0.310         0.47  ...       0.66     11.0        6\n",
            "\n",
            "[1599 rows x 12 columns]\n"
          ],
          "name": "stdout"
        }
      ]
    },
    {
      "cell_type": "code",
      "metadata": {
        "id": "pEWqHMhBVxF4",
        "colab_type": "code",
        "colab": {}
      },
      "source": [
        "from sklearn.model_selection import train_test_split, GridSearchCV"
      ],
      "execution_count": 3,
      "outputs": []
    },
    {
      "cell_type": "code",
      "metadata": {
        "id": "-wYN9cFxV66o",
        "colab_type": "code",
        "colab": {
          "base_uri": "https://localhost:8080/",
          "height": 255
        },
        "outputId": "0157b9be-8ff4-4f8f-8eaa-cb5cca35671f"
      },
      "source": [
        "X= dataset.drop('quality',axis = 1)\n",
        "y= dataset.quality\n",
        "X_train,X_test, y_train, y_test = train_test_split(X,y,test_size= 0.2,random_state = 123, stratify = y)\n",
        "print(X_train)"
      ],
      "execution_count": 4,
      "outputs": [
        {
          "output_type": "stream",
          "text": [
            "      fixed acidity  volatile acidity  citric acid  ...    pH  sulphates    alcohol\n",
            "691             9.2             0.920         0.24  ...  3.48       0.54   9.800000\n",
            "1475            5.3             0.470         0.11  ...  3.54       0.88  13.566667\n",
            "1065            7.7             0.610         0.18  ...  3.29       0.60  10.200000\n",
            "1159           10.2             0.410         0.43  ...  3.16       0.67  10.800000\n",
            "227             9.0             0.820         0.14  ...  3.39       0.63   9.800000\n",
            "...             ...               ...          ...  ...   ...        ...        ...\n",
            "463             8.1             0.660         0.70  ...  3.08       0.53   9.000000\n",
            "558            10.9             0.530         0.49  ...  3.07       0.56  11.700000\n",
            "1094            6.6             0.725         0.09  ...  3.35       0.49  10.800000\n",
            "792             7.1             0.610         0.02  ...  3.48       0.60   9.700000\n",
            "381            13.7             0.415         0.68  ...  3.06       0.80  10.000000\n",
            "\n",
            "[1279 rows x 11 columns]\n"
          ],
          "name": "stdout"
        }
      ]
    },
    {
      "cell_type": "code",
      "metadata": {
        "id": "9AEkb6dcWOCr",
        "colab_type": "code",
        "colab": {}
      },
      "source": [
        "from sklearn.preprocessing import StandardScaler\n",
        "sc = StandardScaler()\n",
        "X_train = sc.fit_transform(X_train)\n",
        "X_test = sc.transform(X_test)"
      ],
      "execution_count": 5,
      "outputs": []
    },
    {
      "cell_type": "code",
      "metadata": {
        "id": "qkqXy4AKW17m",
        "colab_type": "code",
        "colab": {
          "base_uri": "https://localhost:8080/",
          "height": 238
        },
        "outputId": "bcc4a0d8-a17b-4201-890b-53a85ad55350"
      },
      "source": [
        "print(X_train)"
      ],
      "execution_count": 6,
      "outputs": [
        {
          "output_type": "stream",
          "text": [
            "[[ 0.51358886  2.19680282 -0.164433   ...  1.08415147 -0.69866131\n",
            "  -0.58608178]\n",
            " [-1.73698885 -0.31792985 -0.82867679 ...  1.46964764  1.2491516\n",
            "   2.97009781]\n",
            " [-0.35201795  0.46443143 -0.47100705 ... -0.13658641 -0.35492962\n",
            "  -0.20843439]\n",
            " ...\n",
            " [-0.98679628  1.10708533 -0.93086814 ...  0.24890976 -0.98510439\n",
            "   0.35803669]\n",
            " [-0.69826067  0.46443143 -1.28853787 ...  1.08415147 -0.35492962\n",
            "  -0.68049363]\n",
            " [ 3.1104093  -0.62528606  2.08377675 ... -1.61432173  0.79084268\n",
            "  -0.39725809]]\n"
          ],
          "name": "stdout"
        }
      ]
    },
    {
      "cell_type": "code",
      "metadata": {
        "id": "O9LJFQKoXEPF",
        "colab_type": "code",
        "colab": {}
      },
      "source": [
        "from sklearn.pipeline import make_pipeline"
      ],
      "execution_count": 7,
      "outputs": []
    },
    {
      "cell_type": "code",
      "metadata": {
        "id": "oBTJQiHXXQV3",
        "colab_type": "code",
        "colab": {}
      },
      "source": [
        "from sklearn.ensemble import RandomForestRegressor\n",
        "pipeline = make_pipeline(StandardScaler(),RandomForestRegressor(n_estimators = 100))"
      ],
      "execution_count": 8,
      "outputs": []
    },
    {
      "cell_type": "code",
      "metadata": {
        "id": "3Lnz_TuwXssl",
        "colab_type": "code",
        "colab": {
          "base_uri": "https://localhost:8080/",
          "height": 289
        },
        "outputId": "6931089d-f0f7-437c-9379-42a65c6a0dd0"
      },
      "source": [
        "print(pipeline.get_params)"
      ],
      "execution_count": 9,
      "outputs": [
        {
          "output_type": "stream",
          "text": [
            "<bound method Pipeline.get_params of Pipeline(memory=None,\n",
            "         steps=[('standardscaler',\n",
            "                 StandardScaler(copy=True, with_mean=True, with_std=True)),\n",
            "                ('randomforestregressor',\n",
            "                 RandomForestRegressor(bootstrap=True, ccp_alpha=0.0,\n",
            "                                       criterion='mse', max_depth=None,\n",
            "                                       max_features='auto', max_leaf_nodes=None,\n",
            "                                       max_samples=None,\n",
            "                                       min_impurity_decrease=0.0,\n",
            "                                       min_impurity_split=None,\n",
            "                                       min_samples_leaf=1, min_samples_split=2,\n",
            "                                       min_weight_fraction_leaf=0.0,\n",
            "                                       n_estimators=100, n_jobs=None,\n",
            "                                       oob_score=False, random_state=None,\n",
            "                                       verbose=0, warm_start=False))],\n",
            "         verbose=False)>\n"
          ],
          "name": "stdout"
        }
      ]
    },
    {
      "cell_type": "code",
      "metadata": {
        "id": "qYgOY0lXX2hg",
        "colab_type": "code",
        "colab": {}
      },
      "source": [
        "hyper = {'randomforestregressor__max_features' : ['auto','sqrt','log2'],'randomforestregressor__max_depth':[None,5,3,1]}\n",
        "gsv = GridSearchCV(pipeline,hyper,cv=10)\n",
        "gsv.fit(X_train,y_train)\n",
        "y_pred = gsv.predict(X_test)"
      ],
      "execution_count": 10,
      "outputs": []
    },
    {
      "cell_type": "code",
      "metadata": {
        "id": "Sx8iYhwaYn3s",
        "colab_type": "code",
        "colab": {}
      },
      "source": [
        "from sklearn.metrics import mean_squared_error ,r2_score"
      ],
      "execution_count": 11,
      "outputs": []
    },
    {
      "cell_type": "code",
      "metadata": {
        "id": "s0_Wi_u2ZMNw",
        "colab_type": "code",
        "colab": {
          "base_uri": "https://localhost:8080/",
          "height": 34
        },
        "outputId": "4b042647-262d-4886-8dd1-11c6099a350e"
      },
      "source": [
        "print(r2_score(y_test,y_pred))"
      ],
      "execution_count": 12,
      "outputs": [
        {
          "output_type": "stream",
          "text": [
            "0.47530964344088633\n"
          ],
          "name": "stdout"
        }
      ]
    },
    {
      "cell_type": "code",
      "metadata": {
        "id": "Fal24kSLZUHC",
        "colab_type": "code",
        "colab": {}
      },
      "source": [
        ""
      ],
      "execution_count": 12,
      "outputs": []
    }
  ]
}